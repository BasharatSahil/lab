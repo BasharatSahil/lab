{
 "cells": [
  {
   "cell_type": "code",
   "execution_count": 3,
   "id": "80428b59",
   "metadata": {},
   "outputs": [
    {
     "name": "stdout",
     "output_type": "stream",
     "text": [
      "110\n"
     ]
    }
   ],
   "source": [
    "a=22\n",
    "b=5\n",
    "c=a*b\n",
    "print(c)"
   ]
  },
  {
   "cell_type": "code",
   "execution_count": 7,
   "id": "43806761",
   "metadata": {},
   "outputs": [
    {
     "ename": "IndentationError",
     "evalue": "unexpected indent (1329624330.py, line 2)",
     "output_type": "error",
     "traceback": [
      "\u001b[1;36m  Cell \u001b[1;32mIn[7], line 2\u001b[1;36m\u001b[0m\n\u001b[1;33m    e=a/b\u001b[0m\n\u001b[1;37m    ^\u001b[0m\n\u001b[1;31mIndentationError\u001b[0m\u001b[1;31m:\u001b[0m unexpected indent\n"
     ]
    }
   ],
   "source": [
    "a,b=int(input(\"Enter two num:\"))\n",
    "    e=a/b\n",
    "    f=e*c\n",
    "    g=a+b\n",
    "    h=d-b\n",
    "    "
   ]
  },
  {
   "cell_type": "code",
   "execution_count": 16,
   "id": "96d9cb10",
   "metadata": {},
   "outputs": [
    {
     "name": "stdout",
     "output_type": "stream",
     "text": [
      "7-----14-----21-----28-----35\n"
     ]
    }
   ],
   "source": [
    "x=7\n",
    "print(x*1,x*2,x*3,x*4,x*5,sep=\"-----\")"
   ]
  },
  {
   "cell_type": "code",
   "execution_count": 18,
   "id": "73fc24f1",
   "metadata": {},
   "outputs": [
    {
     "name": "stdout",
     "output_type": "stream",
     "text": [
      "  2 x 1 = 2 \n",
      "  2 x 2 = 4 \n",
      "  2 x 3 = 6 \n",
      "\n"
     ]
    }
   ],
   "source": [
    "x=2\n",
    "print(\" \",x,\"x\",\"1\",\"=\",x*1,\"\\n\",\"\",x,\"x\",\"2\",\"=\",x*2,\"\\n\",\"\",x,\"x\",\"3\",\"=\",x*3,\"\\n\",)"
   ]
  },
  {
   "cell_type": "code",
   "execution_count": 5,
   "id": "52fedb45",
   "metadata": {},
   "outputs": [
    {
     "name": "stdout",
     "output_type": "stream",
     "text": [
      "Enter a num: 29\n",
      "29   <class 'int'>\n",
      "enter a decimal num:100.4\n",
      "100.4   <class 'float'>\n"
     ]
    }
   ],
   "source": [
    "num=int(input(\"Enter a num: \"))\n",
    "print(num,\" \",type(num))\n",
    "floatNum=float(input(\"enter a decimal num:\"))\n",
    "print(floatNum,\" \",type(floatNum))"
   ]
  },
  {
   "cell_type": "code",
   "execution_count": 40,
   "id": "df90edd7",
   "metadata": {},
   "outputs": [
    {
     "name": "stdout",
     "output_type": "stream",
     "text": [
      "22 22\n",
      "44\n"
     ]
    }
   ],
   "source": [
    "num=22\n",
    "print(num,\"22\")\n",
    "print(num+num)"
   ]
  },
  {
   "cell_type": "code",
   "execution_count": 42,
   "id": "9725a71a",
   "metadata": {},
   "outputs": [
    {
     "name": "stdout",
     "output_type": "stream",
     "text": [
      "ali said 'he is very good sports person'\n"
     ]
    }
   ],
   "source": [
    "print((\"ali said 'he is very good sports person'\"))"
   ]
  },
  {
   "cell_type": "code",
   "execution_count": 50,
   "id": "d6fb204e",
   "metadata": {},
   "outputs": [
    {
     "name": "stdout",
     "output_type": "stream",
     "text": [
      "A'B'\n"
     ]
    }
   ],
   "source": [
    "print(\"A'B'\")"
   ]
  },
  {
   "cell_type": "code",
   "execution_count": 48,
   "id": "f7986da5",
   "metadata": {},
   "outputs": [
    {
     "name": "stdout",
     "output_type": "stream",
     "text": [
      "A\"b\"\n"
     ]
    }
   ],
   "source": [
    "print('A\"b\"')"
   ]
  },
  {
   "cell_type": "code",
   "execution_count": 51,
   "id": "a40e6894",
   "metadata": {
    "scrolled": true
   },
   "outputs": [
    {
     "ename": "SyntaxError",
     "evalue": "cannot mix bytes and nonbytes literals (3216184009.py, line 1)",
     "output_type": "error",
     "traceback": [
      "\u001b[1;36m  Cell \u001b[1;32mIn[51], line 1\u001b[1;36m\u001b[0m\n\u001b[1;33m    print('A'B'')\u001b[0m\n\u001b[1;37m                ^\u001b[0m\n\u001b[1;31mSyntaxError\u001b[0m\u001b[1;31m:\u001b[0m cannot mix bytes and nonbytes literals\n"
     ]
    }
   ],
   "source": [
    "print('A'B'')"
   ]
  },
  {
   "cell_type": "code",
   "execution_count": 1,
   "id": "abf34b96",
   "metadata": {},
   "outputs": [
    {
     "name": "stdout",
     "output_type": "stream",
     "text": [
      "6\n"
     ]
    }
   ],
   "source": [
    "print(9-3)"
   ]
  },
  {
   "cell_type": "code",
   "execution_count": 2,
   "id": "ef78df34",
   "metadata": {},
   "outputs": [
    {
     "name": "stdout",
     "output_type": "stream",
     "text": [
      "20.0\n"
     ]
    }
   ],
   "source": [
    "print(8*2.5)"
   ]
  },
  {
   "cell_type": "code",
   "execution_count": 3,
   "id": "c9ed3dd1",
   "metadata": {},
   "outputs": [
    {
     "name": "stdout",
     "output_type": "stream",
     "text": [
      "4.5\n"
     ]
    }
   ],
   "source": [
    "print(9/2)"
   ]
  },
  {
   "cell_type": "code",
   "execution_count": 4,
   "id": "2ce5b784",
   "metadata": {},
   "outputs": [
    {
     "name": "stdout",
     "output_type": "stream",
     "text": [
      "-4.5\n"
     ]
    }
   ],
   "source": [
    "print(9/-2)"
   ]
  },
  {
   "cell_type": "code",
   "execution_count": 5,
   "id": "90a7b1e8",
   "metadata": {},
   "outputs": [
    {
     "name": "stdout",
     "output_type": "stream",
     "text": [
      "-5\n"
     ]
    }
   ],
   "source": [
    "print(9//-2)"
   ]
  },
  {
   "cell_type": "code",
   "execution_count": 6,
   "id": "af7425ce",
   "metadata": {},
   "outputs": [
    {
     "name": "stdout",
     "output_type": "stream",
     "text": [
      "1\n"
     ]
    }
   ],
   "source": [
    "print(9%2)"
   ]
  },
  {
   "cell_type": "code",
   "execution_count": 7,
   "id": "f29566e1",
   "metadata": {},
   "outputs": [
    {
     "name": "stdout",
     "output_type": "stream",
     "text": [
      "1.0\n"
     ]
    }
   ],
   "source": [
    "print(9.0%2)"
   ]
  },
  {
   "cell_type": "code",
   "execution_count": 9,
   "id": "cee5ab8b",
   "metadata": {},
   "outputs": [
    {
     "name": "stdout",
     "output_type": "stream",
     "text": [
      "1.0\n"
     ]
    }
   ],
   "source": [
    "print(9%2.0)"
   ]
  },
  {
   "cell_type": "code",
   "execution_count": 10,
   "id": "9bc6cdfb",
   "metadata": {},
   "outputs": [
    {
     "name": "stdout",
     "output_type": "stream",
     "text": [
      "-1\n"
     ]
    }
   ],
   "source": [
    "print(9%-2)"
   ]
  },
  {
   "cell_type": "code",
   "execution_count": 11,
   "id": "a93c2db0",
   "metadata": {},
   "outputs": [
    {
     "name": "stdout",
     "output_type": "stream",
     "text": [
      "1\n"
     ]
    }
   ],
   "source": [
    "print(-9%2)"
   ]
  },
  {
   "cell_type": "code",
   "execution_count": 12,
   "id": "e53630f7",
   "metadata": {},
   "outputs": [
    {
     "name": "stdout",
     "output_type": "stream",
     "text": [
      "-4.5\n"
     ]
    }
   ],
   "source": [
    "print(9/-2.0)"
   ]
  },
  {
   "cell_type": "code",
   "execution_count": 13,
   "id": "72611258",
   "metadata": {},
   "outputs": [
    {
     "name": "stdout",
     "output_type": "stream",
     "text": [
      "19\n"
     ]
    }
   ],
   "source": [
    "print(4+3*5)"
   ]
  },
  {
   "cell_type": "code",
   "execution_count": 14,
   "id": "e1ad456e",
   "metadata": {},
   "outputs": [
    {
     "name": "stdout",
     "output_type": "stream",
     "text": [
      "35\n"
     ]
    }
   ],
   "source": [
    "print((4+3)*5)"
   ]
  },
  {
   "cell_type": "code",
   "execution_count": 1,
   "id": "a7085f16",
   "metadata": {},
   "outputs": [
    {
     "name": "stdout",
     "output_type": "stream",
     "text": [
      "78.80000000000001\n"
     ]
    }
   ],
   "source": [
    "degree_celsius=26.0\n",
    "print(9/5*degree_celsius+32)"
   ]
  },
  {
   "cell_type": "code",
   "execution_count": 2,
   "id": "ca8e6c7b",
   "metadata": {},
   "outputs": [
    {
     "name": "stdout",
     "output_type": "stream",
     "text": [
      "32.0\n"
     ]
    }
   ],
   "source": [
    "degree_celsius=0.0\n",
    "print(9/5*degree_celsius+32)"
   ]
  },
  {
   "cell_type": "code",
   "execution_count": 3,
   "id": "8f1c07b3",
   "metadata": {},
   "outputs": [
    {
     "name": "stdout",
     "output_type": "stream",
     "text": [
      "40\n"
     ]
    }
   ],
   "source": [
    "difference=20\n",
    "double=2*difference\n",
    "print(double)"
   ]
  },
  {
   "cell_type": "code",
   "execution_count": 11,
   "id": "c9fd9f35",
   "metadata": {},
   "outputs": [
    {
     "name": "stdout",
     "output_type": "stream",
     "text": [
      "enter number:3 4\n"
     ]
    },
    {
     "ename": "ValueError",
     "evalue": "invalid literal for int() with base 10: '3 4'",
     "output_type": "error",
     "traceback": [
      "\u001b[1;31m---------------------------------------------------------------------------\u001b[0m",
      "\u001b[1;31mValueError\u001b[0m                                Traceback (most recent call last)",
      "Cell \u001b[1;32mIn[11], line 1\u001b[0m\n\u001b[1;32m----> 1\u001b[0m a,b\u001b[38;5;241m=\u001b[39m\u001b[38;5;28;43mint\u001b[39;49m\u001b[43m(\u001b[49m\u001b[38;5;28;43minput\u001b[39;49m\u001b[43m(\u001b[49m\u001b[38;5;124;43m\"\u001b[39;49m\u001b[38;5;124;43menter number:\u001b[39;49m\u001b[38;5;124;43m\"\u001b[39;49m\u001b[43m)\u001b[49m\u001b[43m)\u001b[49m\n\u001b[0;32m      2\u001b[0m a\u001b[38;5;241m=\u001b[39m\u001b[38;5;28mint\u001b[39m(a)\n\u001b[0;32m      3\u001b[0m b\u001b[38;5;241m=\u001b[39m\u001b[38;5;28mint\u001b[39m(b)\n",
      "\u001b[1;31mValueError\u001b[0m: invalid literal for int() with base 10: '3 4'"
     ]
    }
   ],
   "source": [
    "a,b=int(input(\"enter number:\"))\n",
    "a=int(a)\n",
    "b=int(b)\n",
    "c=a+b\n",
    "print(c)"
   ]
  },
  {
   "cell_type": "code",
   "execution_count": 40,
   "id": "9b5c6862",
   "metadata": {},
   "outputs": [
    {
     "ename": "IndentationError",
     "evalue": "unindent does not match any outer indentation level (<tokenize>, line 35)",
     "output_type": "error",
     "traceback": [
      "\u001b[1;36m  File \u001b[1;32m<tokenize>:35\u001b[1;36m\u001b[0m\n\u001b[1;33m    future_period = period\u001b[0m\n\u001b[1;37m    ^\u001b[0m\n\u001b[1;31mIndentationError\u001b[0m\u001b[1;31m:\u001b[0m unindent does not match any outer indentation level\n"
     ]
    }
   ],
   "source": [
    "hour = int(input(\"Enter the current hour (1-12): \"))\n",
    "period = input(\"Enter am or pm: \")\n",
    "hours_into_future = int(input(\"Enter the number of hours into the future: \"))\n",
    "future_hour = (hour + hours_into_future) % 12\n",
    "print(future_hour)\n",
    "if future_hour == 0:\n",
    "    \n",
    "    \n",
    "    \n",
    "    future_period = period\n",
    "    \n",
    "    else:\n",
    "        \n",
    "        \n",
    "      \n",
    "        if (hour + hours_into_future) > 12:\n",
    "            \n",
    "        \n",
    "            if period == 'am':\n",
    "                \n",
    "            \n",
    "                future_period = 'pm'\n",
    "                \n",
    "                else:\n",
    "                    \n",
    "                \n",
    "                  \n",
    "                    future_period = 'am'\n",
    "                    \n",
    "            \n",
    "            \n",
    "                    else:\n",
    "                    \n",
    "                \n",
    "                \n",
    "                   future_period = period\n",
    "                \n",
    "                \n",
    "                   print(\"The hour {hours_into_future} hours into the future will be {future_hour} {future_period}.\")\n"
   ]
  },
  {
   "cell_type": "code",
   "execution_count": 32,
   "id": "bddd5949",
   "metadata": {},
   "outputs": [
    {
     "name": "stdout",
     "output_type": "stream",
     "text": [
      "Box           oval          arrow              diamond \n",
      "*****         ***             *                   *    \n",
      "*   *       *     *          ***                *   *   \n",
      "*   *      *       *        *****              *     *  \n",
      "*   *     *         *         *               *       *  \n",
      "*   *     *         *         *              *         * \n",
      "*   *     *         *         *               *       *   \n",
      "*   *      *       *          *                *     *    \n",
      "*   *       *     *           *                 *   *      \n",
      "*   *        *   *            *                   *       \n",
      "*****         ***             *                           \n"
     ]
    }
   ],
   "source": [
    "print(\"Box           oval          arrow              diamond \")\n",
    "print(\"*****         ***             *                   *    \")\n",
    "print(\"*   *       *     *          ***                *   *   \")\n",
    "print(\"*   *      *       *        *****              *     *  \")\n",
    "print(\"*   *     *         *         *               *       *  \")\n",
    "print(\"*   *     *         *         *              *         * \")\n",
    "print(\"*   *     *         *         *               *       *   \")\n",
    "print(\"*   *      *       *          *                *     *    \")  \n",
    "print(\"*   *       *     *           *                 *   *      \")  \n",
    "print(\"*   *        *   *            *                   *       \")  \n",
    "print(\"*****         ***             *                           \")  "
   ]
  },
  {
   "cell_type": "code",
   "execution_count": 30,
   "id": "e443c6f2",
   "metadata": {},
   "outputs": [
    {
     "ename": "TypeError",
     "evalue": "unsupported operand type(s) for //: 'str' and 'int'",
     "output_type": "error",
     "traceback": [
      "\u001b[1;31m---------------------------------------------------------------------------\u001b[0m",
      "\u001b[1;31mTypeError\u001b[0m                                 Traceback (most recent call last)",
      "Cell \u001b[1;32mIn[30], line 1\u001b[0m\n\u001b[1;32m----> 1\u001b[0m n1\u001b[38;5;241m=\u001b[39m\u001b[43mnum\u001b[49m\u001b[38;5;241;43m/\u001b[39;49m\u001b[38;5;241;43m/\u001b[39;49m\u001b[38;5;241;43m10000\u001b[39;49m\n",
      "\u001b[1;31mTypeError\u001b[0m: unsupported operand type(s) for //: 'str' and 'int'"
     ]
    }
   ],
   "source": [
    "\n",
    "n1=num//10000\n",
    "\n"
   ]
  },
  {
   "cell_type": "code",
   "execution_count": 69,
   "id": "89fcee40",
   "metadata": {},
   "outputs": [
    {
     "name": "stdout",
     "output_type": "stream",
     "text": [
      "Enter the number of values to be input:4\n",
      "enter num3\n",
      "enter num4\n",
      "enter num2\n",
      "enter num4\n",
      "the sum is  13\n",
      "the min num is  2\n"
     ]
    }
   ],
   "source": [
    "lst=[2,3,4,5,6]\n",
    "sums=0\n",
    "a=int(input(\"Enter the number of values to be input:\"))\n",
    "for i in range(a):\n",
    "    lst[i]=int(input(\"enter num\"))\n",
    "    sums=sums+lst[i]\n",
    "    var=lst[0]\n",
    "    if var>=lst[i]:\n",
    "        mini=lst[i]\n",
    "\n",
    "print(\"the sum is \",sums)\n",
    "print(\"the min num is \",mini)"
   ]
  },
  {
   "cell_type": "code",
   "execution_count": null,
   "id": "1627b6cc",
   "metadata": {},
   "outputs": [],
   "source": []
  }
 ],
 "metadata": {
  "kernelspec": {
   "display_name": "Python 3 (ipykernel)",
   "language": "python",
   "name": "python3"
  },
  "language_info": {
   "codemirror_mode": {
    "name": "ipython",
    "version": 3
   },
   "file_extension": ".py",
   "mimetype": "text/x-python",
   "name": "python",
   "nbconvert_exporter": "python",
   "pygments_lexer": "ipython3",
   "version": "3.10.9"
  }
 },
 "nbformat": 4,
 "nbformat_minor": 5
}
