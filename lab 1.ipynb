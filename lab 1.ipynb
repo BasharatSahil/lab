{
 "cells": [
  {
   "cell_type": "markdown",
   "id": "206d6d33",
   "metadata": {},
   "source": [
    "1.\tWrite a program in jupyter notebook, that prints on screen the message Hello, World.\n"
   ]
  },
  {
   "cell_type": "code",
   "execution_count": 19,
   "id": "3bfc1e89",
   "metadata": {},
   "outputs": [
    {
     "name": "stdout",
     "output_type": "stream",
     "text": [
      "hello world\n"
     ]
    }
   ],
   "source": [
    "print(\"hello world\")"
   ]
  },
  {
   "cell_type": "markdown",
   "id": "3e4b3afc",
   "metadata": {},
   "source": [
    "\n",
    "2.\tUsing the program in (1), what happens if we remove the closing quotation around the text Hello, World?\n"
   ]
  },
  {
   "cell_type": "code",
   "execution_count": 22,
   "id": "831d8911",
   "metadata": {},
   "outputs": [
    {
     "ename": "SyntaxError",
     "evalue": "unterminated string literal (detected at line 1) (3133449829.py, line 1)",
     "output_type": "error",
     "traceback": [
      "\u001b[1;36m  Cell \u001b[1;32mIn[22], line 1\u001b[1;36m\u001b[0m\n\u001b[1;33m    print(\"hello world)\u001b[0m\n\u001b[1;37m          ^\u001b[0m\n\u001b[1;31mSyntaxError\u001b[0m\u001b[1;31m:\u001b[0m unterminated string literal (detected at line 1)\n"
     ]
    }
   ],
   "source": [
    "print(\"hello world)"
   ]
  },
  {
   "cell_type": "markdown",
   "id": "9bb698bd",
   "metadata": {},
   "source": [
    "3.\tUsing the program in (1), what happens if we remove both the quotations around the text Hello, World? How is it different from the behavior in (2)"
   ]
  },
  {
   "cell_type": "code",
   "execution_count": 20,
   "id": "4f2f8196",
   "metadata": {},
   "outputs": [
    {
     "ename": "SyntaxError",
     "evalue": "invalid syntax. Perhaps you forgot a comma? (2497053111.py, line 1)",
     "output_type": "error",
     "traceback": [
      "\u001b[1;36m  Cell \u001b[1;32mIn[20], line 1\u001b[1;36m\u001b[0m\n\u001b[1;33m    print(hello world)\u001b[0m\n\u001b[1;37m          ^\u001b[0m\n\u001b[1;31mSyntaxError\u001b[0m\u001b[1;31m:\u001b[0m invalid syntax. Perhaps you forgot a comma?\n"
     ]
    }
   ],
   "source": [
    "print(hello world)"
   ]
  },
  {
   "cell_type": "code",
   "execution_count": null,
   "id": "909a5d48",
   "metadata": {},
   "outputs": [],
   "source": [
    "4.\tWrite a program using the print() command  that produces the following output:\n",
    "\n",
    "            *\n",
    "          **\n",
    "  ***\n",
    "          ****\n",
    "          *****\n"
   ]
  },
  {
   "cell_type": "code",
   "execution_count": 21,
   "id": "faf176db",
   "metadata": {},
   "outputs": [
    {
     "name": "stdout",
     "output_type": "stream",
     "text": [
      "    *\n",
      "    ***\n",
      " ***\n",
      "    ****\n",
      "     *****\n"
     ]
    }
   ],
   "source": [
    "print(\"    *\\n\",\"   ***\\n\",\"***\\n\",\"   ****\\n\",\"    *****\")\n"
   ]
  },
  {
   "cell_type": "code",
   "execution_count": null,
   "id": "8b2e8969",
   "metadata": {},
   "outputs": [],
   "source": []
  }
 ],
 "metadata": {
  "kernelspec": {
   "display_name": "Python 3 (ipykernel)",
   "language": "python",
   "name": "python3"
  },
  "language_info": {
   "codemirror_mode": {
    "name": "ipython",
    "version": 3
   },
   "file_extension": ".py",
   "mimetype": "text/x-python",
   "name": "python",
   "nbconvert_exporter": "python",
   "pygments_lexer": "ipython3",
   "version": "3.10.9"
  }
 },
 "nbformat": 4,
 "nbformat_minor": 5
}
